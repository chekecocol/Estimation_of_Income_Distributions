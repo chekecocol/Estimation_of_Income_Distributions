{
 "cells": [
  {
   "cell_type": "code",
   "execution_count": 2,
   "metadata": {},
   "outputs": [],
   "source": [
    "## Load required libraries\n",
    "import numpy as np\n",
    "import scipy as sp\n",
    "import scipy.optimize as sp_opt\n",
    "import pandas as pd"
   ]
  },
  {
   "cell_type": "code",
   "execution_count": 16,
   "metadata": {},
   "outputs": [
    {
     "name": "stdout",
     "output_type": "stream",
     "text": [
      "\n",
      "INEGI's ENIGH 2012 survey data:\n",
      "\n",
      "First 10 rows of data:\n",
      "               0     1\n",
      "0   31548.900391  1537\n",
      "1   34186.148438  1537\n",
      "2  148123.890625  1537\n",
      "3   45438.937500  1537\n",
      "4   55309.453125  1537\n",
      "5    7405.419922  1215\n",
      "6    9164.080078  1215\n",
      "7   23326.609375  1215\n",
      "8   29059.210938  1215\n",
      "9   45155.070312  1215\n",
      "\n",
      "Expanded number of observations: 31559379.0\n",
      "\n",
      "Average quarterly household income: 37999.64190447456\n"
     ]
    }
   ],
   "source": [
    "## Load data from INEGI's ENIGH survey\n",
    "print(\"\\nINEGI's ENIGH 2012 survey data:\")\n",
    "\n",
    "data = pd.read_excel(\"~/Desktop/enigh_income_data_households.xls\", header = None)\n",
    "\n",
    "print(\"\\nFirst 10 rows of data:\")\n",
    "print(data.head(10))\n",
    "data = data.to_numpy()\n",
    "\n",
    "# Observations, expansion factors, expanded number of observations\n",
    "mydata = [data[:,0], data[:,1], np.sum(data[:,1])]\n",
    "\n",
    "print(\"\\nExpanded number of observations: \" + str(mydata[2]))\n",
    "\n",
    "print(\"\\nAverage quarterly household income: \" + str(1/mydata[2]*np.sum(mydata[0]*mydata[1])) )"
   ]
  },
  {
   "cell_type": "code",
   "execution_count": 80,
   "metadata": {},
   "outputs": [
    {
     "name": "stderr",
     "output_type": "stream",
     "text": [
      "C:\\Users\\ezequiel\\AppData\\Roaming\\Python\\Python37\\site-packages\\ipykernel_launcher.py:23: RuntimeWarning: invalid value encountered in double_scalars\n",
      "C:\\Users\\ezequiel\\AppData\\Roaming\\Python\\Python37\\site-packages\\ipykernel_launcher.py:23: RuntimeWarning: invalid value encountered in power\n",
      "C:\\Users\\ezequiel\\AppData\\Roaming\\Python\\Python37\\site-packages\\ipykernel_launcher.py:23: RuntimeWarning: overflow encountered in double_scalars\n",
      "C:\\Users\\ezequiel\\AppData\\Roaming\\Python\\Python37\\site-packages\\ipykernel_launcher.py:23: RuntimeWarning: divide by zero encountered in log\n",
      "C:\\Users\\ezequiel\\AppData\\Roaming\\Python\\Python37\\site-packages\\ipykernel_launcher.py:23: RuntimeWarning: overflow encountered in power\n",
      "C:\\Users\\ezequiel\\AppData\\Roaming\\Python\\Python37\\site-packages\\scipy\\optimize\\optimize.py:697: RuntimeWarning: invalid value encountered in double_scalars\n",
      "  df = (f(*((xk + d,) + args)) - f0) / d[k]\n"
     ]
    },
    {
     "name": "stdout",
     "output_type": "stream",
     "text": [
      "Warning: Desired error not necessarily achieved due to precision loss.\n",
      "         Current function value: 360564215.991250\n",
      "         Iterations: 376\n",
      "         Function evaluations: 3128\n",
      "         Gradient evaluations: 623\n",
      "\n",
      "Unconstrained solution:\n",
      "[9.50185826e-06 7.89926207e+00 1.74880449e-01]\n",
      "\n",
      "Unconstrained mean of the fitted distribution:\n",
      "36771.025634849204\n",
      "\n",
      "\n"
     ]
    },
    {
     "name": "stderr",
     "output_type": "stream",
     "text": [
      "C:\\Users\\ezequiel\\AppData\\Roaming\\Python\\Python37\\site-packages\\ipykernel_launcher.py:23: RuntimeWarning: invalid value encountered in double_scalars\n",
      "C:\\Users\\ezequiel\\AppData\\Roaming\\Python\\Python37\\site-packages\\ipykernel_launcher.py:23: RuntimeWarning: invalid value encountered in power\n",
      "C:\\Users\\ezequiel\\AppData\\Roaming\\Python\\Python37\\site-packages\\ipykernel_launcher.py:23: RuntimeWarning: invalid value encountered in log\n",
      "C:\\Users\\ezequiel\\AppData\\Roaming\\Python\\Python37\\site-packages\\ipykernel_launcher.py:23: RuntimeWarning: divide by zero encountered in double_scalars\n",
      "C:\\Users\\ezequiel\\AppData\\Roaming\\Python\\Python37\\site-packages\\ipykernel_launcher.py:32: RuntimeWarning: invalid value encountered in double_scalars\n",
      "C:\\Users\\ezequiel\\AppData\\Roaming\\Python\\Python37\\site-packages\\ipykernel_launcher.py:23: RuntimeWarning: divide by zero encountered in log\n"
     ]
    },
    {
     "name": "stdout",
     "output_type": "stream",
     "text": [
      "Optimization terminated successfully.    (Exit mode 0)\n",
      "            Current function value: 367501023.43674386\n",
      "            Iterations: 146\n",
      "            Function evaluations: 1314\n",
      "            Gradient evaluations: 146\n",
      "\n",
      "Constrained solution:\n",
      "[1.10598971e-08 4.75361930e+00 1.25137028e-01]\n",
      "\n",
      "Constrained mean of the fitted distribution:\n",
      "92733.62000032829\n",
      "\n",
      "Density above threshold of 10410000.0:\n",
      "9.95488158305633e-07\n",
      "\n",
      "\n"
     ]
    },
    {
     "name": "stderr",
     "output_type": "stream",
     "text": [
      "C:\\Users\\ezequiel\\AppData\\Roaming\\Python\\Python37\\site-packages\\ipykernel_launcher.py:44: RuntimeWarning: invalid value encountered in double_scalars\n"
     ]
    },
    {
     "name": "stdout",
     "output_type": "stream",
     "text": [
      "Iteration limit exceeded    (Exit mode 9)\n",
      "            Current function value: 367500977.71336627\n",
      "            Iterations: 2001\n",
      "            Function evaluations: 30004\n",
      "            Gradient evaluations: 2001\n",
      "\n",
      "Constrained solution:\n",
      "[1.10570708e-08 4.75094351e+00 1.25122520e-01]\n",
      "\n",
      "Constrained mean of the fitted distribution:\n",
      "92733.56112381208\n",
      "\n",
      "Density above threshold of 10410000.0:\n",
      "1.0014430677684413e-06\n",
      "\n",
      "\n"
     ]
    }
   ],
   "source": [
    "## Perform Maximum Likelihood Estimation with constraints using BFGS in Scipy\n",
    "\n",
    "# Constraints\n",
    "constrained_mean = 92733.62 #2.44 * (1/mydata[2]*np.sum(mydata[0]*mydata[1]))\n",
    "top_threshold = 1.041e7\n",
    "constrained_density = 0.000001\n",
    "\n",
    "# Initial guess\n",
    "start_param_scipy = [2.0**15, 1.0e-1, 0.5e0]\n",
    "\n",
    "def objective_GeneralizedGamma(params, mydata):\n",
    "    # Retrieve parameters\n",
    "    a = params[0]\n",
    "    d = params[1]\n",
    "    p = params[2]\n",
    "    \n",
    "    # Retrieve observations\n",
    "    Y = mydata[0]\n",
    "    Weights = mydata[1]\n",
    "    n = mydata[2]\n",
    "    \n",
    "    # Compute negative log-likelihood\n",
    "    ll = -(n*np.log((p/a**d)/sp.special.gamma(d/p)) + (d-1)*np.sum(Weights*np.log(Y)) - np.sum(Weights*(Y/a)**p))\n",
    "    \n",
    "    return ll\n",
    "\n",
    "def Mean_GeneralizedGamma(params):\n",
    "    a = params[0]\n",
    "    d = params[1]\n",
    "    p = params[2]\n",
    "    \n",
    "    mean = a * sp.special.gamma((d+1)/p) / sp.special.gamma(d/p)\n",
    "    return mean\n",
    "\n",
    "def constrained_mean_fun(params):\n",
    "    cons_mean = Mean_GeneralizedGamma(params) - constrained_mean\n",
    "    return cons_mean\n",
    "\n",
    "def Right_CDF_GeneralizedGamma(params):\n",
    "    a = params[0]\n",
    "    d = params[1]\n",
    "    p = params[2]\n",
    "    \n",
    "    right_cdf = sp.special.gammaincc(d/p, (top_threshold/a)**p)\n",
    "    return right_cdf\n",
    "\n",
    "def constrained_CDF_fun(params):\n",
    "    cons_CDF = Right_CDF_GeneralizedGamma(params) - constrained_density\n",
    "    return cons_CDF\n",
    "\n",
    "# Firstly, test unconstrained optimization\n",
    "#print( objective_GeneralizedGamma(start_param_scipy, mydata) )\n",
    "myoptions = {'disp' : True, 'maxiter' : 2000}\n",
    "unc_results = sp_opt.minimize(objective_GeneralizedGamma, start_param_scipy, args = mydata, options = myoptions)\n",
    "while False:#unc_results.success != True:\n",
    "    start_param_scipy[1] = start_param_scipy[1]*2\n",
    "    print(start_param_scipy)\n",
    "    unc_results = sp_opt.minimize(objective_GeneralizedGamma, start_param_scipy, args = mydata, options = myoptions)\n",
    "\n",
    "\n",
    "print(\"\\nUnconstrained solution:\")\n",
    "print(unc_results.x)\n",
    "print(\"\\nUnconstrained mean of the fitted distribution:\")\n",
    "unc_fitted_mean = Mean_GeneralizedGamma(unc_results.x)\n",
    "print(unc_fitted_mean)\n",
    "print(\"\\n\")\n",
    "\n",
    "# Then, perform optimization over the constrained mean\n",
    "con_start_param_scipy = unc_results.x\n",
    "myconstraints = ({'type': 'eq', 'fun' : constrained_mean_fun})\n",
    "con_results = sp_opt.minimize(objective_GeneralizedGamma, con_start_param_scipy, args = mydata, constraints = myconstraints, options = myoptions)\n",
    "print(\"\\nConstrained solution:\")\n",
    "print(con_results.x)\n",
    "print(\"\\nConstrained mean of the fitted distribution:\")\n",
    "con_fitted_mean = Mean_GeneralizedGamma(con_results.x)\n",
    "print(con_fitted_mean)\n",
    "print(\"\\nDensity above threshold of \" + str(top_threshold) +\":\")\n",
    "print(Right_CDF_GeneralizedGamma(con_results.x))\n",
    "print(\"\\n\")\n",
    "\n",
    "# Finally, perform optimization over the constrained mean and the constrained cdf\n",
    "con_start_param_scipy = con_results.x\n",
    "myconstraints = ({'type': 'eq', 'fun' : constrained_mean_fun}, {'type': 'eq', 'fun' : constrained_CDF_fun})\n",
    "con_results = sp_opt.minimize(objective_GeneralizedGamma, con_start_param_scipy, args = mydata, constraints = myconstraints, options = myoptions)\n",
    "print(\"\\nConstrained solution:\")\n",
    "print(con_results.x)\n",
    "print(\"\\nConstrained mean of the fitted distribution:\")\n",
    "con_fitted_mean = Mean_GeneralizedGamma(con_results.x)\n",
    "print(con_fitted_mean)\n",
    "print(\"\\nDensity above threshold of \" + str(top_threshold) +\":\")\n",
    "print(Right_CDF_GeneralizedGamma(con_results.x))\n",
    "print(\"\\n\")\n"
   ]
  },
  {
   "cell_type": "code",
   "execution_count": null,
   "metadata": {},
   "outputs": [],
   "source": []
  }
 ],
 "metadata": {
  "kernelspec": {
   "display_name": "Python 3",
   "language": "python",
   "name": "python3"
  },
  "language_info": {
   "codemirror_mode": {
    "name": "ipython",
    "version": 3
   },
   "file_extension": ".py",
   "mimetype": "text/x-python",
   "name": "python",
   "nbconvert_exporter": "python",
   "pygments_lexer": "ipython3",
   "version": "3.7.7"
  }
 },
 "nbformat": 4,
 "nbformat_minor": 4
}
